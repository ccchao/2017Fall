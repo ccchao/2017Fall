{
 "cells": [
  {
   "cell_type": "markdown",
   "metadata": {},
   "source": [
    "# Homework 02\n",
    "### [Chia-Chun Chao]"
   ]
  },
  {
   "cell_type": "code",
   "execution_count": 1,
   "metadata": {
    "collapsed": true
   },
   "outputs": [],
   "source": [
    "# (do not modify this cell)\n",
    "\n",
    "# allowed imports only (you may not need all of these)\n",
    "import sys, os\n",
    "import glob\n",
    "import numpy as np\n",
    "import scipy.stats\n",
    "import matplotlib.pyplot as plt\n",
    "\n",
    "# make plots stay inside the notebook\n",
    "%matplotlib inline"
   ]
  },
  {
   "cell_type": "markdown",
   "metadata": {},
   "source": [
    "# Functions"
   ]
  },
  {
   "cell_type": "markdown",
   "metadata": {},
   "source": [
    "#### 2\\. Error reports have been gathered from a variety of different reporting systems, so not all reports follow the same format. Create a function called `load_report` where indicated that takes a report filename as input, reads the text of that file into Python, then extracts and returns the error mode counts as a Python dictionary."
   ]
  },
  {
   "cell_type": "code",
   "execution_count": 2,
   "metadata": {
    "collapsed": true
   },
   "outputs": [],
   "source": [
    "def load_report(filename):\n",
    "    \"\"\"\n",
    "    This function takes a report filename as input, \n",
    "    reads the text of that file into Python, \n",
    "    then extracts and returns the error mode counts as a Python dictionary.\n",
    "    It also checks if the filename is the same as DATACENTER number and if counts are integers.\n",
    "    \"\"\"\n",
    "    reportText = open(filename).read() #Read the file \n",
    "    dataCenterDict = {}\n",
    "       \n",
    "    for line in reportText.split('\\n'): #Process every line\n",
    "        splitLineByColon = line.split(':') #Check if this line is one of error modes\n",
    "        \n",
    "        try: #If the string after a colon is a number, it is a count\n",
    "            count = int(splitLineByColon[1].strip())\n",
    "        except IndexError: #There is no colon in this line\n",
    "            #Check if DATACENTER number is the same as file number\n",
    "            if \"DATACENTER\" in splitLineByColon[0]: #Check if this line is DATACENTER number\n",
    "                fileNumber = filename.split('/')[-1].replace(\".dat\", '') #Get rid of all characters except file number\n",
    "                if splitLineByColon[0].replace(\"DATACENTER \", '') != fileNumber:\n",
    "                    print(fileNumber, \".dat contains a different DATACENTER number.\")                   \n",
    "            continue\n",
    "        except ValueError: #The second item is not a number, so this line could be AUTOMATED REPORT PERIOD or OPERATION NOTES\n",
    "            continue\n",
    "             \n",
    "        #Check if count is integer\n",
    "        if(splitLineByColon[1].strip().isdigit() == False):\n",
    "            print(\"The error mode count in\", filename, \"is not an integer.\")\n",
    "            \n",
    "        #Add this error mode and count to the dictionary of this datacenter\n",
    "        dataCenterDict[splitLineByColon[0]] = count\n",
    "    \n",
    "    return dataCenterDict"
   ]
  },
  {
   "cell_type": "code",
   "execution_count": 3,
   "metadata": {
    "collapsed": true
   },
   "outputs": [],
   "source": [
    "def total_report(dataCenterListOfDict):\n",
    "    \"\"\"\n",
    "    This function calculates total count of each error mode in all reports.\n",
    "    Also, it calculates the number of times each error mode is recorded in a file.\n",
    "    \"\"\"\n",
    "    totalErrorCountDict = {}\n",
    "    errorModeInFileDict = {}\n",
    "    \n",
    "    for dataCenter in range(0, len(dataCenterListOfDict)): #Loop for every data center\n",
    "        for errorMode in dataCenterListOfDict[dataCenter]: #Loop for every error mode in a data center\n",
    "            #Store the count in the dictionary\n",
    "            try: #Add the count to the dictionary\n",
    "                totalErrorCountDict[errorMode] += dataCenterListOfDict[dataCenter][errorMode] \n",
    "                errorModeInFileDict[errorMode] += 1 #Increase the number of times that this error mode appears\n",
    "            except KeyError: #First time seeing this error mode\n",
    "                totalErrorCountDict[errorMode] = dataCenterListOfDict[dataCenter][errorMode] \n",
    "                errorModeInFileDict[errorMode] = 1\n",
    "                \n",
    "    return totalErrorCountDict, errorModeInFileDict"
   ]
  },
  {
   "cell_type": "code",
   "execution_count": 4,
   "metadata": {
    "collapsed": true
   },
   "outputs": [],
   "source": [
    "def print_error_mode_dictionary(dictionary):\n",
    "    \"\"\"\n",
    "    Print all items in the dictionary in a formatted way.\n",
    "    \"\"\"\n",
    "    for errorMode in dictionary:\n",
    "        print(\"{0:34}{1:7d}\".format(errorMode, dictionary[errorMode]))\n",
    "    print(\"------------------------------------------------------\")\n",
    "    pass"
   ]
  },
  {
   "cell_type": "code",
   "execution_count": 5,
   "metadata": {
    "collapsed": true
   },
   "outputs": [],
   "source": [
    "def check_ID_consistency(IDList):   \n",
    "    \"\"\"\n",
    "    Measure ID consistency by checking if ID numbers are unique and if they are sequential or if there are gaps of missing ID numbers.\n",
    "    \"\"\"\n",
    "    sequential=0\n",
    "    for ID in IDList:\n",
    "        IDNumber = int(ID)\n",
    "        if IDNumber == sequential:\n",
    "            sequential += 1\n",
    "        elif IDNumber < sequential: #If sequential increases faster than ID, there are more than one file with the same ID\n",
    "            print(ID, \"is not unique.\")\n",
    "            sequential += 1\n",
    "        else: #If sequential increases slower than ID, some IDs are missing\n",
    "            print(sequential, \"is missing, so ID numbers are not sequential.\")\n",
    "    pass"
   ]
  },
  {
   "cell_type": "code",
   "execution_count": 6,
   "metadata": {
    "collapsed": true
   },
   "outputs": [],
   "source": [
    "def check_error_mode_consistency(errorModeInFileDict, fileCount):\n",
    "    \"\"\"\n",
    "    Measure error modes consistency by checking if all reports contains the same error modes.\n",
    "    \"\"\"\n",
    "    differentModeNameList = []\n",
    "    for errorMode in errorModeInFileDict: #errorModeInFileDict stores the number of files each error mode appears in\n",
    "        #If the error modes consistent, the number of files each error mode appears in should equal the count of files\n",
    "        if errorModeInFileDict[errorMode] != fileCount:   \n",
    "            differentModeNameList.append(errorMode) #Store the error modes that might refer to the same error mode\n",
    "\n",
    "    #Not all files contain these error modes, which means they might represent the same error mode.\n",
    "    if len(differentModeNameList) != 0: \n",
    "        print(\"The number of times each error mode is recorded in a file:\\n\")\n",
    "        print_error_mode_dictionary(errorModeInFileDict)      \n",
    "        print(\"Not all files contain these error modes. They might represent the same error mode.\")\n",
    "\n",
    "    return differentModeNameList\n"
   ]
  },
  {
   "cell_type": "code",
   "execution_count": 7,
   "metadata": {
    "collapsed": true
   },
   "outputs": [],
   "source": [
    "def merge_error_modes(differentModeNameList, totalErrorCountDict, dataCenterListOfDict):\n",
    "    \"\"\"\n",
    "    Merge repeated different error modes into one.\n",
    "    \"\"\"\n",
    "    newCount = 0\n",
    "    newErrorMode = \"\"\n",
    "    print(\"Merge these error modes into one:\\n\")\n",
    "    \n",
    "    for errorMode in differentModeNameList: #Print and merge repeated error modes into one \n",
    "        print(errorMode)\n",
    "        newCount += totalErrorCountDict[errorMode] #Calculate correct error mode count after merging some modes\n",
    "        newErrorMode = newErrorMode + errorMode + \" / \"\n",
    "        del totalErrorCountDict[errorMode]\n",
    "\n",
    "    newErrorMode = newErrorMode[:-3]\n",
    "    totalErrorCountDict[newErrorMode] = newCount\n",
    "    print(\"------------------------------------------------------\")\n",
    "    \n",
    "    #Update the name of merged error mode in each report\n",
    "    for datacenter in range(0,len(dataCenterListOfDict)): #Loop for every dictionary storing error mode counts\n",
    "        for errorMode in differentModeNameList: #Find the error mode that needs to be updated\n",
    "            if errorMode in dataCenterListOfDict[datacenter]:\n",
    "                #Copy the count to the merged error mode\n",
    "                dataCenterListOfDict[datacenter][newErrorMode] = dataCenterListOfDict[datacenter][errorMode]\n",
    "                del dataCenterListOfDict[datacenter][errorMode] #Delete the old error mode\n",
    "                break\n",
    "        \n",
    "    return totalErrorCountDict"
   ]
  },
  {
   "cell_type": "code",
   "execution_count": 8,
   "metadata": {
    "collapsed": true
   },
   "outputs": [],
   "source": [
    "def analyze_total_count_of_Each_center(dataCenterListOfDict):\n",
    "    \"\"\"\n",
    "    For every data center, summarize total count of each error mode and store counts in a dictionary.\n",
    "    Find top 10 data centers that experience more errors than others\n",
    "    \"\"\"\n",
    "    totalCountOfEachDataCenterDict = {}\n",
    "    for dataCenter in range(0, len(dataCenterListOfDict)): #Iterate over all dictionary for every data center\n",
    "        totalCount = 0\n",
    "        #Summarize all counts of error modes\n",
    "        totalCountOfEachDataCenterDict[dataCenter] = sum(dataCenterListOfDict[dataCenter].values())\n",
    "    \n",
    "    #Find top 10 data centers that experience more errors than others\n",
    "    top10 = 0\n",
    "    print(\"Total errors of these 10 data centers that experience more errors than others:\\n\")\n",
    "    for dataCenter in sorted(totalCountOfEachDataCenterDict, key=totalCountOfEachDataCenterDict.get, reverse=True):\n",
    "        print(\"DATACENTER {0:06d}{1:20d}\".format(dataCenter, totalCountOfEachDataCenterDict[dataCenter]))\n",
    "        top10 += 1\n",
    "        if top10 == 10:\n",
    "            break                \n",
    "    print(\"------------------------------------------------------\")\n",
    "    \n",
    "    return totalCountOfEachDataCenterDict"
   ]
  },
  {
   "cell_type": "code",
   "execution_count": 9,
   "metadata": {
    "collapsed": true
   },
   "outputs": [],
   "source": [
    "def find_average_number_of_errors(totalCountOfEachDataCenterDict):\n",
    "    \"\"\"\n",
    "    Find the typical number of errors a data center should expect.\n",
    "    \"\"\"\n",
    "    print(\"The typical number of errors a data center should expect:\\n\")\n",
    "    print(\"Total count of errors in each data center / Number of data centers\")\n",
    "    total = sum(totalCountOfEachDataCenterDict.values())\n",
    "    number = len(totalCountOfEachDataCenterDict)\n",
    "    print(total, '/', number, '=', total/number)\n",
    "    \n",
    "    print(\"------------------------------------------------------\")\n",
    "    pass"
   ]
  },
  {
   "cell_type": "code",
   "execution_count": 10,
   "metadata": {
    "collapsed": true
   },
   "outputs": [],
   "source": [
    "def find_most_common_error(dataCenterListOfDict):\n",
    "    \"\"\"\n",
    "    Find the number of data centers that experience each error, which means the count is not 0.\n",
    "    \"\"\"\n",
    "    errorModeOccurInFileDict = {} #A dictionary storing the number of files each error mode occurs in\n",
    "    for dataCenter in dataCenterListOfDict:\n",
    "        for errorMode in dataCenter:\n",
    "            if dataCenter[errorMode] != 0: #This error occurs in this data center\n",
    "                try: #Increase the count of this error mode\n",
    "                    errorModeOccurInFileDict[errorMode] += 1\n",
    "                except KeyError: #First time seeing this error mode\n",
    "                    errorModeOccurInFileDict[errorMode] = 1\n",
    "\n",
    "    #Find the error mode that occurs in the most data centers\n",
    "    print(\"The number of times each error mode occurs in a data center (\", len(dataCenterListOfDict), \" data centers in total):\\n\", sep='')\n",
    "    for errorMode in sorted(errorModeOccurInFileDict, key=errorModeOccurInFileDict.get, reverse=True):\n",
    "        print(\"{0:34}{1:7d}{2:10.2%}\".format(errorMode, errorModeOccurInFileDict[errorMode], errorModeOccurInFileDict[errorMode]/len(dataCenterListOfDict)))\n",
    "    \n",
    "    print(\"------------------------------------------------------\")\n",
    "    \n",
    "    pass"
   ]
  },
  {
   "cell_type": "code",
   "execution_count": 11,
   "metadata": {
    "collapsed": true
   },
   "outputs": [],
   "source": [
    "def find_errors_distribution(totalCountOfEachDataCenterDict):\n",
    "    \"\"\"\n",
    "    Find the distribution of the number of errors a data center experiences using histograms.\n",
    "    After showing the graphs, the result shows the typical number is 0 to 25.\n",
    "    \"\"\"\n",
    "    #Find the distribution of the number of errors a data center experiences using histograms\n",
    "    print(\"Find the distribution of the number of errors a data center experiences.\")\n",
    "    print(\"Construct a histogram showing the distribution of total errors that data centers experience.\")\n",
    "    \n",
    "    plt.hist(list(totalCountOfEachDataCenterDict.values()), bins = 20)\n",
    "    plt.title(\"Histogram without setting the range\")\n",
    "    plt.xlabel(\"Number of errors\")\n",
    "    plt.ylabel(\"Count of numbers in a range\")\n",
    "    plt.show()\n",
    "    print(\"Most results seem very small, so we set the upper limit to 200.\")\n",
    "    plt.hist(list(totalCountOfEachDataCenterDict.values()), bins = 20, range=[0,200])\n",
    "    plt.title(\"Histogram with range 0 to 200\")\n",
    "    plt.xlabel(\"Number of errors\")\n",
    "    plt.ylabel(\"Count of numbers in a range\")\n",
    "    plt.show()\n",
    "\n",
    "    #Calculate the number of data centers that experience less than or equal to 25 errors\n",
    "    count = 0\n",
    "    for dataCenter in sorted(totalCountOfEachDataCenterDict, key=totalCountOfEachDataCenterDict.get): #Iterate over all dictionary for every data center\n",
    "        if totalCountOfEachDataCenterDict[dataCenter] > 25:\n",
    "            break\n",
    "        count += 1\n",
    "    print(\"In\", len(totalCountOfEachDataCenterDict), \"data centers, there are\", count, \"data centers experience 0 to 25 errors.\")\n",
    "    print(count, '/', len(totalCountOfEachDataCenterDict), ' = ', sep='', end='')\n",
    "    print(\"{:.2%}\".format(count/len(totalCountOfEachDataCenterDict)))\n",
    "    \n",
    "    print(\"------------------------------------------------------\")"
   ]
  },
  {
   "cell_type": "code",
   "execution_count": 12,
   "metadata": {
    "collapsed": true
   },
   "outputs": [],
   "source": [
    "def find_errors_not_occur(totalErrorCountDict):\n",
    "    \"\"\"\n",
    "    Find the error modes that do not occur in all data centers\n",
    "    \"\"\"\n",
    "    print(\"These errors do not happen in all data centers:\\n\")\n",
    "    for errorMode in totalErrorCountDict:\n",
    "        if totalErrorCountDict[errorMode] == 0:\n",
    "            print (errorMode)\n",
    "    \n",
    "    print(\"------------------------------------------------------\")\n",
    "    pass"
   ]
  },
  {
   "cell_type": "code",
   "execution_count": 13,
   "metadata": {
    "collapsed": true
   },
   "outputs": [],
   "source": [
    "def find_most_error_for_a_center(dataCenterListOfDict):\n",
    "    \"\"\"\n",
    "    For each data center, find the error mode that it experiences the most.\n",
    "    \"\"\"\n",
    "    dataCenterMostErrorDict = {}\n",
    "    for dataCenter in range(0, len(dataCenterListOfDict)):\n",
    "        #Find the the error mode that this data center experiences the most\n",
    "        errorMode = max(dataCenterListOfDict[dataCenter], key=dataCenterListOfDict[dataCenter].get)\n",
    "        try:\n",
    "            dataCenterMostErrorDict[errorMode].append(dataCenter)\n",
    "        except KeyError: #First time seeing this error mode\n",
    "            dataCenterMostErrorDict[errorMode] = []\n",
    "            dataCenterMostErrorDict[errorMode].append(dataCenter)        \n",
    "    \n",
    "    del dataCenterMostErrorDict[\"Misc. elec.\"]\n",
    "    print(\"Below is the main issue of each data center (the rest are all Misc. elec.):\\n\")\n",
    "    print(dataCenterMostErrorDict)\n",
    "    print(\"------------------------------------------------------\")\n",
    "    pass    \n",
    "        "
   ]
  },
  {
   "cell_type": "code",
   "execution_count": 14,
   "metadata": {
    "collapsed": true
   },
   "outputs": [],
   "source": [
    "def print_error_total_proprotion(errorDictionary, totalDictionary, proportionDictionary, flag, number):\n",
    "    \"\"\"\n",
    "    Print data centers with more errors related to water.\n",
    "    \"\"\"\n",
    "    limit = 0\n",
    "    print(\"             ID       error     total   proportion\")   \n",
    "    if flag == 0: #Sort data centers by the count of water error\n",
    "        for dataCenter in sorted(errorDictionary, key=errorDictionary.get, reverse=True):\n",
    "            print(\"DATACENTER {0:06d}{1:10d}{2:10d}{3:10.2%}\".format(dataCenter, errorDictionary[dataCenter], totalDictionary[dataCenter], proportionDictionary[dataCenter]))\n",
    "            limit += 1\n",
    "            if limit == number:\n",
    "                break     \n",
    "                \n",
    "    elif flag == 1: #Sort data centers by the proportion of water error\n",
    "        for dataCenter in sorted(proportionDictionary, key=proportionDictionary.get, reverse=True):\n",
    "            print(\"DATACENTER {0:06d}{1:10d}{2:10d}{3:10.2%}\".format(dataCenter, errorDictionary[dataCenter], totalDictionary[dataCenter], proportionDictionary[dataCenter]))\n",
    "            limit += 1\n",
    "            if limit == number:\n",
    "                break              \n",
    "                \n",
    "    print(\"------------------------------------------------------\")    \n",
    "    pass"
   ]
  },
  {
   "cell_type": "code",
   "execution_count": 15,
   "metadata": {
    "collapsed": true
   },
   "outputs": [],
   "source": [
    "def wilson_lower_confidence(num, pos, z=1.96):\n",
    "    \"\"\"`num` samples, `pos` of which are positive = true = 1. The rest \n",
    "    are negative = false = 0. `z` is the normal proportion for confidence\n",
    "    interval, default z = 1.96 (95%)\n",
    "    \"\"\"\n",
    "    n = num\n",
    "    if n == 0:\n",
    "        return 0\n",
    "\n",
    "    p = pos / n # observed rate p\n",
    "    #return (p + z*z/(2*n) - z*math.sqrt((p*(1-p) + z**2/(4*n))/n)) / (1 + z**2/n)\n",
    "    return (p + z*z/(2*n) - z*(((p*(1-p) + z**2/(4*n))/n)**(1/2))) / (1 + z**2/n)"
   ]
  },
  {
   "cell_type": "markdown",
   "metadata": {},
   "source": [
    "# Problem 1: Processing error reports\n"
   ]
  },
  {
   "cell_type": "markdown",
   "metadata": {},
   "source": [
    "#### 3\\. Write a loop that calls your function on each report file and stores the error mode counts in an appropriate data structure.  Since different reports may look very different, you need to examine the report files both computationally (by writing and rewriting Python code) and by eye (by reading the text files yourself) to determine how the reports are written. **Your function must automatically read all reports correctly**."
   ]
  },
  {
   "cell_type": "code",
   "execution_count": 16,
   "metadata": {
    "collapsed": true,
    "scrolled": true
   },
   "outputs": [],
   "source": [
    "\"\"\"\n",
    "Write a loop that calls your function on each report file and stores the error mode counts in an appropriate data structure. \n",
    "\"\"\"\n",
    "#Initiate variables\n",
    "fileCount = 0 #Number of files in reports/\n",
    "IDList = [] #Store file numbers that have been read\n",
    "dataCenterListOfDict = [] #A list contains every datacenter and each item represents a dictionary storing a dictionary\n",
    "\n",
    "path = os.getcwd() + \"/reports/\" #Get the path of current directory and enter to reports/\n",
    "\n",
    "for filename in os.listdir(path): #Process all file in reports/\n",
    "    IDList.append(filename.replace(\".dat\", '')) #Store the ID into a list for later check\n",
    "    filename = path + filename #Get the entire path of the file\n",
    "    #totalErrorCountDict, errorModeInFileDict, dataCenterListOfDict = load_report(filename, totalErrorCountDict, errorModeInFileDict, dataCenterListOfDict)\n",
    "    dataCenterListOfDict.append(load_report(filename))\n",
    "    fileCount += 1 #Count the number of all files in reports/"
   ]
  },
  {
   "cell_type": "markdown",
   "metadata": {},
   "source": [
    "#### 4\\. It appears that data centers have associated ID numbers. Are these IDs **consistent**? How should we define consistency? One way is to check if ID numbers are unique and if they are sequential or if there are gaps of missing ID numbers. How else should we define and measure consistency?\n",
    "\n",
    "We can describe an ID as consistent if this ID is expectable, which means we can correctly guess next ID by current ID as long as next ID exists. To check if ID numbers are unique and sequential, `check_ID_consistency` compares IDs with a continuous number starting from 0 to check if they match. If there are same IDs or missing IDs, the function will show messages. Also, in `load_report`, there is an `if` statement to check if DATACENTER number in a file is the same as the file name. Above two methods both do not show any messages, so these IDs are consistent."
   ]
  },
  {
   "cell_type": "code",
   "execution_count": 17,
   "metadata": {
    "collapsed": true
   },
   "outputs": [],
   "source": [
    "#Check if ID numbers are unique and if they are sequential or if there are gaps of missing ID numbers.\n",
    "check_ID_consistency(sorted(IDList)) "
   ]
  },
  {
   "cell_type": "markdown",
   "metadata": {},
   "source": [
    "#### 5\\. Are the **error modes** consistent? Do you need to do any cleaning, such as merging different error mode names that represent the same thing or fixing typos in the names of error modes? **[Bonus for ugrads/Required for grads]**: Make the error modes consistent or prove they are already consistent.\n",
    "\n",
    "No, these error modes are not consistent. Depending on the number of times each error mode is recorded in a file, `check_error_mode_consistency` shows that HVAC, Air Con., and A/C are not recorded in all 1431 files. Because the sum of these three is equal to 1431, we assume HVAC, Air Con., and A/C all refer to the same error mode. Therefore, we update a new error mode count after merging these three error modes in `merge_error_modes`. "
   ]
  },
  {
   "cell_type": "code",
   "execution_count": 18,
   "metadata": {},
   "outputs": [
    {
     "name": "stdout",
     "output_type": "stream",
     "text": [
      "The number of times each error mode is recorded in a file:\n",
      "\n",
      "Fiber pipeline in                    1431\n",
      "Fiber pipeline out                   1431\n",
      "HVAC                                  941\n",
      "Misc. elec.                          1431\n",
      "Operator (employee) error            1431\n",
      "Operator (non-employee) error        1431\n",
      "Physical intrusion (person)          1431\n",
      "Physical intrusion (water)           1431\n",
      "Power/generator loss                 1431\n",
      "Power/generator reduction            1431\n",
      "Air Con.                              200\n",
      "A/C                                   290\n",
      "------------------------------------------------------\n",
      "Not all files contain these error modes. They might represent the same error mode.\n",
      "Merge these error modes into one:\n",
      "\n",
      "HVAC\n",
      "Air Con.\n",
      "A/C\n",
      "------------------------------------------------------\n",
      "Below is the new error mode dictionary:\n",
      "\n",
      "Fiber pipeline in                   42601\n",
      "Fiber pipeline out                  12237\n",
      "Misc. elec.                        214269\n",
      "Operator (employee) error               0\n",
      "Operator (non-employee) error        4489\n",
      "Physical intrusion (person)           617\n",
      "Physical intrusion (water)          50684\n",
      "Power/generator loss                    0\n",
      "Power/generator reduction            7762\n",
      "HVAC / Air Con. / A/C               42563\n",
      "------------------------------------------------------\n"
     ]
    }
   ],
   "source": [
    "#totalErrorCountDict = {} #A dictionary storing total count of each error mode\n",
    "#errorModeInFileDict = {} #A dictionary storing the number of files each error mode appears in    \n",
    "totalErrorCountDict, errorModeInFileDict = total_report(dataCenterListOfDict)\n",
    "\n",
    "#Check if all reports contains the same error modes\n",
    "differentModeNameList = check_error_mode_consistency(errorModeInFileDict, fileCount) \n",
    "\n",
    "#If there are different error modes refering to the same error mode, merge repeated error modes into one.\n",
    "if len(differentModeNameList) != 0:\n",
    "    totalErrorCountDict = merge_error_modes(differentModeNameList, totalErrorCountDict, dataCenterListOfDict)\n",
    "\n",
    "    print(\"Below is the new error mode dictionary:\\n\")\n",
    "    print_error_mode_dictionary(totalErrorCountDict)"
   ]
  },
  {
   "cell_type": "markdown",
   "metadata": {},
   "source": [
    "#### 6\\. Are the error mode **counts** consistent? Define consistency and show if the counts are or are not consistent? If they are not consistent, make them consistent.\n",
    "\n",
    "In `load_report`, after extracting each line and get the item after a colon, we should get a count for that error mode in the line. Also, this count should be an integer, so `isdigit()` checks if this count is an integer or a float number. After execution, there is no any message showing the count is not an integer, so the error mode counts are consistent.\n"
   ]
  },
  {
   "cell_type": "markdown",
   "metadata": {},
   "source": [
    "# Problem 2: Error rates and statistics"
   ]
  },
  {
   "cell_type": "markdown",
   "metadata": {},
   "source": [
    "#### 1\\. Analyze these counts to report what are the different error modes and how often they occur. Do some data centers experience more errors than others? What is the typical number of errors a data center should expect? What are the most common types of errors experienced by data centers? Ask and answer at least two more questions of these data! \n",
    "##### You should summarize the counts using basic statistics and visualizations. Craft an appropriate argument to help your manager and the company's risk assessment office understand what is happening at the data centers.\n",
    "\n",
    "* According to the result, there are 10 error modes and the result shows total times of each error in all reports.\n",
    "* Data center 000223 and 000353 experience the most errors and their counts are even more than three times of data center 000959, which means these two data center might have some problems. \n",
    "* The typical number of errors that a data center should expect is the average number of errors that a data center experience, so we divide the total counts by the number of data centers and get 262 as the typical number.\n",
    "* The most common types of errors experienced by data centers is Misc. elec., which occurs in 99.79% of data centers. \n",
    "* As shown in histograms, numbers of total errors that data centers experience distribute in 0 to 25 mostly. \n",
    "* Operator (employee) error and Power/generator loss do not happen in all data centers, so they might not be issues for a data center, or they might be serious problems that are essential to record but barely happen.\n",
    "* Most data centers experience the error mode, Misc. elec., the most, but there are still some data centers have other main issues."
   ]
  },
  {
   "cell_type": "code",
   "execution_count": 19,
   "metadata": {},
   "outputs": [
    {
     "name": "stdout",
     "output_type": "stream",
     "text": [
      "Total counts of each error mode in all data centers:\n",
      "\n",
      "Fiber pipeline in                   42601\n",
      "Fiber pipeline out                  12237\n",
      "Misc. elec.                        214269\n",
      "Operator (employee) error               0\n",
      "Operator (non-employee) error        4489\n",
      "Physical intrusion (person)           617\n",
      "Physical intrusion (water)          50684\n",
      "Power/generator loss                    0\n",
      "Power/generator reduction            7762\n",
      "HVAC / Air Con. / A/C               42563\n",
      "------------------------------------------------------\n",
      "Total errors of these 10 data centers that experience more errors than others:\n",
      "\n",
      "DATACENTER 000223              111967\n",
      "DATACENTER 000353              105275\n",
      "DATACENTER 000959               28322\n",
      "DATACENTER 001357               14999\n",
      "DATACENTER 000841               12979\n",
      "DATACENTER 001386               11777\n",
      "DATACENTER 001035                8386\n",
      "DATACENTER 001176                6920\n",
      "DATACENTER 001092                4592\n",
      "DATACENTER 000159                4057\n",
      "------------------------------------------------------\n",
      "The typical number of errors a data center should expect:\n",
      "\n",
      "Total count of errors in each data center / Number of data centers\n",
      "375222 / 1431 = 262.20964360587004\n",
      "------------------------------------------------------\n",
      "The number of times each error mode occurs in a data center (1431 data centers in total):\n",
      "\n",
      "Misc. elec.                          1428    99.79%\n",
      "Fiber pipeline in                    1121    78.34%\n",
      "HVAC / Air Con. / A/C                1119    78.20%\n",
      "Physical intrusion (water)           1008    70.44%\n",
      "Fiber pipeline out                    629    43.96%\n",
      "Power/generator reduction             480    33.54%\n",
      "Operator (non-employee) error         328    22.92%\n",
      "Physical intrusion (person)            75     5.24%\n",
      "------------------------------------------------------\n",
      "Find the distribution of the number of errors a data center experiences.\n",
      "Construct a histogram showing the distribution of total errors that data centers experience.\n"
     ]
    },
    {
     "data": {
      "image/png": "[encoded data removed]",
      "text/plain": [
       "<matplotlib.figure.Figure at 0x10dab2860>"
      ]
     },
     "metadata": {},
     "output_type": "display_data"
    },
    {
     "name": "stdout",
     "output_type": "stream",
     "text": [
      "Most results seem very small, so we set the upper limit to 200.\n"
     ]
    },
    {
     "data": {
      "image/png": "[encoded data removed]",
      "text/plain": [
       "<matplotlib.figure.Figure at 0x10daa4a20>"
      ]
     },
     "metadata": {},
     "output_type": "display_data"
    },
    {
     "name": "stdout",
     "output_type": "stream",
     "text": [
      "In 1431 data centers, there are 1082 data centers experience 0 to 25 errors.\n",
      "1082/1431 = 75.61%\n",
      "------------------------------------------------------\n",
      "These errors do not happen in all data centers:\n",
      "\n",
      "Operator (employee) error\n",
      "Power/generator loss\n",
      "------------------------------------------------------\n",
      "Below is the main issue of each data center (the rest are all Misc. elec.):\n",
      "\n",
      "{'Fiber pipeline in': [5, 22, 231, 262, 291, 320, 326, 344, 372, 400, 475, 478, 488, 503, 531, 585, 603, 605, 617, 638, 715, 720, 736, 805, 848, 874, 886, 919, 944, 1006, 1024, 1040, 1045, 1154, 1177, 1214, 1217, 1231, 1302], 'Physical intrusion (water)': [11, 12, 16, 26, 28, 36, 52, 59, 61, 64, 68, 86, 92, 118, 130, 139, 140, 141, 154, 156, 168, 173, 195, 201, 203, 229, 241, 245, 254, 278, 288, 295, 314, 325, 332, 339, 358, 359, 373, 383, 398, 412, 413, 414, 439, 444, 447, 451, 458, 482, 496, 499, 518, 521, 528, 533, 579, 597, 614, 619, 621, 633, 648, 654, 658, 670, 677, 678, 683, 697, 700, 710, 711, 723, 731, 733, 747, 779, 785, 793, 809, 818, 825, 827, 829, 833, 837, 845, 846, 854, 855, 856, 862, 865, 870, 872, 884, 888, 890, 903, 913, 917, 926, 930, 967, 980, 1034, 1041, 1050, 1056, 1058, 1069, 1071, 1073, 1076, 1102, 1112, 1125, 1128, 1133, 1139, 1141, 1149, 1160, 1175, 1184, 1191, 1193, 1209, 1216, 1233, 1247, 1261, 1272, 1274, 1281, 1285, 1291, 1313, 1317, 1346, 1357, 1358, 1373, 1396, 1400, 1405, 1410, 1417], 'Fiber pipeline out': [18, 129, 813, 940, 968, 1009, 1086, 1258], 'HVAC / Air Con. / A/C': [111, 228, 468, 492, 544, 553, 607, 644, 1059, 1109, 1289, 1342, 1353], 'Power/generator reduction': [764]}\n",
      "------------------------------------------------------\n"
     ]
    }
   ],
   "source": [
    "print(\"Total counts of each error mode in all data centers:\\n\")\n",
    "print_error_mode_dictionary(totalErrorCountDict)\n",
    "    \n",
    "#Find top 10 data centers that experience more errors than others\n",
    "totalCountOfEachDataCenterDict = analyze_total_count_of_Each_center(dataCenterListOfDict)\n",
    "\n",
    "#Find the typical number of errors a data center should expect\n",
    "find_average_number_of_errors(totalCountOfEachDataCenterDict)\n",
    "\n",
    "#Find the number of data centers that experience each error, which means the count is not 0\n",
    "find_most_common_error(dataCenterListOfDict)\n",
    "\n",
    "#Find the distribution of the number of errors a data center experiences using histograms\n",
    "find_errors_distribution(totalCountOfEachDataCenterDict)\n",
    "\n",
    "#Find the error modes that do not occur in all data centers\n",
    "find_errors_not_occur(totalErrorCountDict)\n",
    "\n",
    "#For each data center, find the error mode that it experiences the most\n",
    "find_most_error_for_a_center(dataCenterListOfDict)\n",
    " "
   ]
  },
  {
   "cell_type": "markdown",
   "metadata": {},
   "source": [
    "#### 2\\. Being very careful as you interpret your analyses, what are the **riskiest** error modes in terms of shutting down data centers?\n",
    "\n",
    "Operator (employee) error and Power/generator loss do not happen in all data centers, so they might be serious problems that are essential to record but barely happen, or whenever they happen, the data center will not be able to send a report. "
   ]
  },
  {
   "cell_type": "markdown",
   "metadata": {},
   "source": [
    "# Problem 3: Flood risk"
   ]
  },
  {
   "cell_type": "markdown",
   "metadata": {
    "collapsed": true
   },
   "source": [
    "#### 1\\. From the error reports, what data centers are most at risk due to flooding? Are some more at risk than others or is the risk of floods about the same across data centers. To answer this question, look at errors related to water compared with overall error rates. What proportion of the errors at each data center is due to water?\n",
    "\n",
    "To determine a data center at risk due to flooding, we can compare the error by the number or by the proportion. In terms of the count, 001357, 000223, 000353 experience much more errors than other data centers. In terms of proportion, the histogram shows that most proportions of data centers are lower than the overall proportion, but there are still a large number of data centers have higher proportion of water error than others, which means they may be more at risk than most data centers. Data center 001357 has the highest number of water errors, and its proportion is 65.22%, which is really high compared to the overall proportion. The proportion of water-related error in all data centers is 13.51%. The average proportion of water-related error in each data centers is 14.32%."
   ]
  },
  {
   "cell_type": "code",
   "execution_count": 20,
   "metadata": {},
   "outputs": [
    {
     "name": "stdout",
     "output_type": "stream",
     "text": [
      "These 10 data centers encounter errors related to water more than others:\n",
      "\n",
      "             ID       error     total   proportion\n",
      "DATACENTER 001357      9782     14999    65.22%\n",
      "DATACENTER 000223      9497    111967     8.48%\n",
      "DATACENTER 000353      9075    105275     8.62%\n",
      "DATACENTER 000959      2476     28322     8.74%\n",
      "DATACENTER 000841      1088     12979     8.38%\n",
      "DATACENTER 001386       996     11777     8.46%\n",
      "DATACENTER 001035       737      8386     8.79%\n",
      "DATACENTER 001176       559      6920     8.08%\n",
      "DATACENTER 001092       405      4592     8.82%\n",
      "DATACENTER 000154       389       572    68.01%\n",
      "------------------------------------------------------\n"
     ]
    },
    {
     "data": {
      "image/png": "[encoded data removed]",
      "text/plain": [
       "<matplotlib.figure.Figure at 0x111076f60>"
      ]
     },
     "metadata": {},
     "output_type": "display_data"
    },
    {
     "name": "stdout",
     "output_type": "stream",
     "text": [
      "These 10 data centers encounter errors related to water more than others in proportion:\n",
      "\n",
      "             ID       error     total   proportion\n",
      "DATACENTER 000499        45        58    77.59%\n",
      "DATACENTER 001076       107       141    75.89%\n",
      "DATACENTER 001281        66        87    75.86%\n",
      "DATACENTER 000229        87       117    74.36%\n",
      "DATACENTER 000700        60        81    74.07%\n",
      "DATACENTER 000856        50        68    73.53%\n",
      "DATACENTER 000412        83       113    73.45%\n",
      "DATACENTER 000156        83       114    72.81%\n",
      "DATACENTER 000451        58        80    72.50%\n",
      "DATACENTER 000141        45        63    71.43%\n",
      "------------------------------------------------------\n",
      "The proportion of water-related error in all data centers is:\n",
      "\n",
      "Total water errors / all types of errors\n",
      "50684 / 375222 = 13.51%\n",
      "\n",
      "The average proportion of water-related error in each data centers is:\n",
      "\n",
      "204.85187529160706 / 1431 = 14.32%\n",
      "------------------------------------------------------\n"
     ]
    }
   ],
   "source": [
    "#Store the error count related to water for every data center\n",
    "waterErrorCountDict = {}\n",
    "waterErrorProportionDict = {}\n",
    "for dataCenter in range(fileCount):\n",
    "    waterErrorCountDict[dataCenter] = dataCenterListOfDict[dataCenter][\"Physical intrusion (water)\"]\n",
    "    waterErrorProportionDict[dataCenter] = waterErrorCountDict[dataCenter]/totalCountOfEachDataCenterDict[dataCenter]\n",
    "    \n",
    "#Print the top 10 data centers that encounter more errors related to water   \n",
    "print(\"These 10 data centers encounter errors related to water more than others:\\n\")\n",
    "print_error_total_proprotion(waterErrorCountDict, totalCountOfEachDataCenterDict, waterErrorProportionDict, 0, 10)\n",
    "\n",
    "#Find the distribution of proportion of water errors in all data centers\n",
    "plt.hist(list(waterErrorProportionDict.values()), bins = 20)\n",
    "plt.title(\"Histogram of all proportion of water errors in data centers\")\n",
    "plt.xlabel(\"proportion of water errors\")\n",
    "plt.ylabel(\"Number of data centers\")\n",
    "plt.show()\n",
    "#Print the top 10 data centers that encounter more proportion of errors related to water   \n",
    "print(\"These 10 data centers encounter errors related to water more than others in proportion:\\n\")\n",
    "print_error_total_proprotion(waterErrorCountDict, totalCountOfEachDataCenterDict, waterErrorProportionDict, 1, 10)\n",
    "\n",
    "#Total counts of Physical intrusion (water) in all data centers\n",
    "print(\"The proportion of water-related error in all data centers is:\\n\")\n",
    "print(\"Total water errors / all types of errors\")\n",
    "print(totalErrorCountDict[\"Physical intrusion (water)\"], '/', sum(totalErrorCountDict.values()), '=', \"{0:.2%}\".format(totalErrorCountDict[\"Physical intrusion (water)\"]/sum(totalErrorCountDict.values())))  \n",
    "\n",
    "print(\"\\nThe average proportion of water-related error in each data centers is:\\n\")\n",
    "print(sum(waterErrorProportionDict.values()), '/', len(waterErrorProportionDict), '=', \"{0:.2%}\".format(sum(waterErrorProportionDict.values())/len(waterErrorProportionDict)))  \n",
    "\n",
    "print(\"------------------------------------------------------\")    \n"
   ]
  },
  {
   "cell_type": "markdown",
   "metadata": {},
   "source": [
    "#### 2\\. Rank the  N  data centers according to flood risk, from a rank of  R=1  (most at risk) to  R=N  least at risk. Develop a visualization or other data presentation to display this information compactly. **[Bonus for ugrads/Required for grads]**: When ranking of data centers according to flood risk, incorporate uncertainty in your risk proportions. Determine how best to do this, and **justify** your analysis choices.\n",
    "\n",
    "To incorporate uncertainty in the risk proportions, we can use Wilson score test and rank on the Wilson lower bound by smoothing Wald approximation.\n"
   ]
  },
  {
   "cell_type": "code",
   "execution_count": 21,
   "metadata": {},
   "outputs": [
    {
     "name": "stdout",
     "output_type": "stream",
     "text": [
      "Rank the data centers according to flood risk with incorporating uncertainty:\n",
      "\n",
      "             ID       error     total   proportion\n",
      "DATACENTER 001076       107       141    68.20%\n",
      "DATACENTER 001281        66        87    65.90%\n",
      "DATACENTER 000229        87       117    65.76%\n",
      "DATACENTER 000499        45        58    65.34%\n",
      "DATACENTER 000412        83       113    64.64%\n",
      "DATACENTER 001357      9782     14999    64.45%\n",
      "DATACENTER 000154       389       572    64.08%\n",
      "DATACENTER 000156        83       114    64.00%\n",
      "DATACENTER 000700        60        81    63.60%\n",
      "DATACENTER 000140       280       414    62.98%\n",
      "DATACENTER 000028        94       132    62.97%\n",
      "DATACENTER 001317       112       159    62.93%\n",
      "DATACENTER 001247       108       155    62.04%\n",
      "DATACENTER 000856        50        68    61.99%\n",
      "DATACENTER 000061       102       146    61.99%\n",
      "DATACENTER 000785        90       128    61.90%\n",
      "DATACENTER 000451        58        80    61.86%\n",
      "DATACENTER 000068       341       518    61.64%\n",
      "DATACENTER 000359        75       106    61.49%\n",
      "DATACENTER 000052       113       165    61.04%\n",
      "------------------------------------------------------\n"
     ]
    },
    {
     "data": {
      "image/png": "[encoded data removed]",
      "text/plain": [
       "<matplotlib.figure.Figure at 0x105575278>"
      ]
     },
     "metadata": {},
     "output_type": "display_data"
    }
   ],
   "source": [
    "waterErrorUncertaintyProportionDict = {}\n",
    "for dataCenter in range(fileCount):\n",
    "    waterErrorUncertaintyProportionDict[dataCenter] = wilson_lower_confidence(totalCountOfEachDataCenterDict[dataCenter], waterErrorCountDict[dataCenter])   \n",
    "\n",
    "#Rank the N data centers according to flood risk with incorporating uncertainty\n",
    "print(\"Rank the data centers according to flood risk with incorporating uncertainty:\\n\") \n",
    "print_error_total_proprotion(waterErrorCountDict, totalCountOfEachDataCenterDict, waterErrorUncertaintyProportionDict, 1, 20)\n",
    "    \n",
    "#Find the distribution of proportion of water errors in all data centers\n",
    "plt.hist(list(waterErrorUncertaintyProportionDict.values()), bins = 20)\n",
    "plt.title(\"Histogram of all proportion with uncertainty of water errors in data centers\")\n",
    "plt.xlabel(\"proportion of water errors\")\n",
    "plt.ylabel(\"Number of data centers\")\n",
    "plt.show()\n",
    "    \n",
    "    "
   ]
  },
  {
   "cell_type": "markdown",
   "metadata": {},
   "source": [
    "#### 3\\. Rank data centers by their flood risk both with and without uncertainty, then determine an appropriate statistics for comparing how the *ranks* change.\n",
    "\n",
    "The blue line represents the original rank of proportion without including uncertainty, and the orange line represents the rank of proportion with including uncertainty. The graph shows that the middle part of ranks is more changed than the top part of ranks."
   ]
  },
  {
   "cell_type": "code",
   "execution_count": 22,
   "metadata": {
    "scrolled": false
   },
   "outputs": [
    {
     "data": {
      "image/png": "[encoded data removed]",
      "text/plain": [
       "<matplotlib.figure.Figure at 0x111207668>"
      ]
     },
     "metadata": {},
     "output_type": "display_data"
    },
    {
     "data": {
      "image/png": "[encoded data removed]",
      "text/plain": [
       "<matplotlib.figure.Figure at 0x1111cbcf8>"
      ]
     },
     "metadata": {},
     "output_type": "display_data"
    }
   ],
   "source": [
    "#Construct a list containing the data center ids that are sorted by their proportion, and set the index as the rank\n",
    "waterErrorProportionRank = sorted(waterErrorProportionDict, key=waterErrorProportionDict.get, reverse=True)\n",
    "waterErrorUncertaintyProportionRank = sorted(waterErrorUncertaintyProportionDict, key=waterErrorUncertaintyProportionDict.get, reverse=True)\n",
    "\n",
    "#Store the rank with uncertainty on the corresponding index\n",
    "UncertaintyProportionRankSortedByOrigin = []\n",
    "for rankDataCenter in range(fileCount):\n",
    "    UncertaintyProportionRankSortedByOrigin.append(waterErrorUncertaintyProportionRank.index(waterErrorProportionRank[rankDataCenter]))\n",
    "    \n",
    "rankList = []\n",
    "for rank in range(0,fileCount):\n",
    "    rankList.append(rank)\n",
    "    \n",
    "plt.plot(rankList, label=\"rank by proportion without uncertainty\")\n",
    "plt.plot(UncertaintyProportionRankSortedByOrigin, label=\"rank by proportion with uncertainty\")\n",
    "plt.title(\"Comparison of rank with and without uncertainty\")\n",
    "plt.ylabel(\"Rank\")\n",
    "plt.legend()\n",
    "plt.show()\n",
    "\n",
    "#Store the proportion of each rank into a list for the graph    \n",
    "rankListProportion = []\n",
    "rankListUncertaintyProportion = []\n",
    "for rank in range(0,fileCount):\n",
    "    rankListProportion.append(waterErrorProportionDict[waterErrorProportionRank[rank]])\n",
    "    rankListUncertaintyProportion.append(waterErrorUncertaintyProportionDict[waterErrorUncertaintyProportionRank[rank]])\n",
    "\n",
    "plt.plot(rankList, rankListProportion, label=\"proportion without uncertainty\")\n",
    "plt.plot(rankList, rankListUncertaintyProportion, label=\"proportion with uncertainty\")\n",
    "plt.title(\"Comparison of proportion with and without uncertainty by rank\")\n",
    "plt.xlabel(\"Rank\")\n",
    "plt.ylabel(\"Proportion\")\n",
    "plt.legend()\n",
    "plt.show()\n",
    "\n",
    "\n",
    "    "
   ]
  }
 ],
 "metadata": {
  "kernelspec": {
   "display_name": "Python 3",
   "language": "python",
   "name": "python3"
  },
  "language_info": {
   "codemirror_mode": {
    "name": "ipython",
    "version": 3
   },
   "file_extension": ".py",
   "mimetype": "text/x-python",
   "name": "python",
   "nbconvert_exporter": "python",
   "pygments_lexer": "ipython3",
   "version": "3.6.1"
  },
  "toc": {
   "colors": {
    "hover_highlight": "#DAA520",
    "navigate_num": "#000000",
    "navigate_text": "#333333",
    "running_highlight": "#FF0000",
    "selected_highlight": "#FFD700",
    "sidebar_border": "#EEEEEE",
    "wrapper_background": "#FFFFFF"
   },
   "moveMenuLeft": true,
   "nav_menu": {
    "height": "120px",
    "width": "252px"
   },
   "navigate_menu": true,
   "number_sections": false,
   "sideBar": true,
   "threshold": 4,
   "toc_cell": false,
   "toc_section_display": "block",
   "toc_window_display": false,
   "widenNotebook": false
  }
 },
 "nbformat": 4,
 "nbformat_minor": 2
}
